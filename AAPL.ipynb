{
  "nbformat": 4,
  "nbformat_minor": 0,
  "metadata": {
    "colab": {
      "name": "AAPL.ipynb",
      "version": "0.3.2",
      "provenance": [],
      "collapsed_sections": [],
      "include_colab_link": true
    },
    "kernelspec": {
      "name": "python3",
      "display_name": "Python 3"
    }
  },
  "cells": [
    {
      "cell_type": "markdown",
      "metadata": {
        "id": "view-in-github",
        "colab_type": "text"
      },
      "source": [
        "<a href=\"https://colab.research.google.com/github/lcphy/Stock-Forecast/blob/master/AAPL.ipynb\" target=\"_parent\"><img src=\"https://colab.research.google.com/assets/colab-badge.svg\" alt=\"Open In Colab\"/></a>"
      ]
    },
    {
      "cell_type": "code",
      "metadata": {
        "id": "bqTAqoUyZRDP",
        "colab_type": "code",
        "outputId": "16899fa1-d2d2-457c-ece6-fd3eef981f4f",
        "colab": {
          "base_uri": "https://localhost:8080/",
          "height": 34
        }
      },
      "source": [
        "import numpy as np\n",
        "import pandas as pd\n",
        "import matplotlib.pyplot as plt\n",
        "from math import sqrt\n",
        "from pandas import read_csv\n",
        "from pandas import DataFrame\n",
        "from pandas import concat\n",
        "from pandas import datetime\n",
        "from datetime import datetime\n",
        "from sklearn import metrics\n",
        "from numpy import concatenate\n",
        "from keras.models import Sequential\n",
        "from keras.layers import Dense\n",
        "from keras.layers import LSTM\n",
        "from keras.layers import Dropout\n",
        "from keras.optimizers import Adam, SGD\n",
        "from sklearn.preprocessing import MinMaxScaler\n",
        "from sklearn.preprocessing import LabelEncoder\n",
        "from sklearn.metrics import mean_squared_error\n",
        "from keras.losses import mean_absolute_percentage_error \n",
        "from sklearn.model_selection import train_test_split"
      ],
      "execution_count": 0,
      "outputs": [
        {
          "output_type": "stream",
          "text": [
            "Using TensorFlow backend.\n"
          ],
          "name": "stderr"
        }
      ]
    },
    {
      "cell_type": "code",
      "metadata": {
        "id": "r7PIs26OTS8f",
        "colab_type": "code",
        "outputId": "960068e4-8607-4938-be49-f27067921acb",
        "colab": {
          "base_uri": "https://localhost:8080/",
          "height": 51
        }
      },
      "source": [
        "!pip install scipy==1.2.1"
      ],
      "execution_count": 0,
      "outputs": [
        {
          "output_type": "stream",
          "text": [
            "Requirement already satisfied: scipy==1.2.1 in /usr/local/lib/python3.6/dist-packages (1.2.1)\n",
            "Requirement already satisfied: numpy>=1.8.2 in /usr/local/lib/python3.6/dist-packages (from scipy==1.2.1) (1.16.4)\n"
          ],
          "name": "stdout"
        }
      ]
    },
    {
      "cell_type": "code",
      "metadata": {
        "id": "yj1zqPWcTU7F",
        "colab_type": "code",
        "outputId": "937b9662-912a-43a9-baba-3ef62d6b3268",
        "colab": {
          "base_uri": "https://localhost:8080/",
          "height": 221
        }
      },
      "source": [
        "!pip install pmdarima"
      ],
      "execution_count": 0,
      "outputs": [
        {
          "output_type": "stream",
          "text": [
            "Requirement already satisfied: pmdarima in /usr/local/lib/python3.6/dist-packages (1.2.0)\n",
            "Requirement already satisfied: scikit-learn>=0.19 in /usr/local/lib/python3.6/dist-packages (from pmdarima) (0.21.2)\n",
            "Requirement already satisfied: Cython>=0.29 in /usr/local/lib/python3.6/dist-packages (from pmdarima) (0.29.10)\n",
            "Requirement already satisfied: statsmodels>=0.9.0 in /usr/local/lib/python3.6/dist-packages (from pmdarima) (0.9.0)\n",
            "Requirement already satisfied: numpy>=1.15 in /usr/local/lib/python3.6/dist-packages (from pmdarima) (1.16.4)\n",
            "Requirement already satisfied: pandas>=0.19 in /usr/local/lib/python3.6/dist-packages (from pmdarima) (0.24.2)\n",
            "Requirement already satisfied: scipy>=1.2 in /usr/local/lib/python3.6/dist-packages (from pmdarima) (1.2.1)\n",
            "Requirement already satisfied: joblib>=0.11 in /usr/local/lib/python3.6/dist-packages (from scikit-learn>=0.19->pmdarima) (0.13.2)\n",
            "Requirement already satisfied: patsy in /usr/local/lib/python3.6/dist-packages (from statsmodels>=0.9.0->pmdarima) (0.5.1)\n",
            "Requirement already satisfied: python-dateutil>=2.5.0 in /usr/local/lib/python3.6/dist-packages (from pandas>=0.19->pmdarima) (2.5.3)\n",
            "Requirement already satisfied: pytz>=2011k in /usr/local/lib/python3.6/dist-packages (from pandas>=0.19->pmdarima) (2018.9)\n",
            "Requirement already satisfied: six in /usr/local/lib/python3.6/dist-packages (from patsy->statsmodels>=0.9.0->pmdarima) (1.12.0)\n"
          ],
          "name": "stdout"
        }
      ]
    },
    {
      "cell_type": "code",
      "metadata": {
        "id": "CEpUsKHCUzyI",
        "colab_type": "code",
        "colab": {}
      },
      "source": [
        "#TOMORROW"
      ],
      "execution_count": 0,
      "outputs": []
    },
    {
      "cell_type": "code",
      "metadata": {
        "id": "PMbIb9pBkAHg",
        "colab_type": "code",
        "colab": {}
      },
      "source": [
        "days=1"
      ],
      "execution_count": 0,
      "outputs": []
    },
    {
      "cell_type": "code",
      "metadata": {
        "id": "cJmcAh6na6hF",
        "colab_type": "code",
        "outputId": "bb57a0cd-fa1c-4a0d-d29b-b73fc92d17f7",
        "colab": {
          "base_uri": "https://localhost:8080/",
          "height": 235
        }
      },
      "source": [
        "from pandas_datareader import data as wb\n",
        "apple_training_complete = wb.DataReader('AAPL', data_source='yahoo', start='2015-1-1')\n",
        "apple_training_complete.head()"
      ],
      "execution_count": 0,
      "outputs": [
        {
          "output_type": "execute_result",
          "data": {
            "text/html": [
              "<div>\n",
              "<style scoped>\n",
              "    .dataframe tbody tr th:only-of-type {\n",
              "        vertical-align: middle;\n",
              "    }\n",
              "\n",
              "    .dataframe tbody tr th {\n",
              "        vertical-align: top;\n",
              "    }\n",
              "\n",
              "    .dataframe thead th {\n",
              "        text-align: right;\n",
              "    }\n",
              "</style>\n",
              "<table border=\"1\" class=\"dataframe\">\n",
              "  <thead>\n",
              "    <tr style=\"text-align: right;\">\n",
              "      <th></th>\n",
              "      <th>High</th>\n",
              "      <th>Low</th>\n",
              "      <th>Open</th>\n",
              "      <th>Close</th>\n",
              "      <th>Volume</th>\n",
              "      <th>Adj Close</th>\n",
              "    </tr>\n",
              "    <tr>\n",
              "      <th>Date</th>\n",
              "      <th></th>\n",
              "      <th></th>\n",
              "      <th></th>\n",
              "      <th></th>\n",
              "      <th></th>\n",
              "      <th></th>\n",
              "    </tr>\n",
              "  </thead>\n",
              "  <tbody>\n",
              "    <tr>\n",
              "      <th>2015-01-02</th>\n",
              "      <td>111.440002</td>\n",
              "      <td>107.349998</td>\n",
              "      <td>111.389999</td>\n",
              "      <td>109.330002</td>\n",
              "      <td>53204600.0</td>\n",
              "      <td>101.138702</td>\n",
              "    </tr>\n",
              "    <tr>\n",
              "      <th>2015-01-05</th>\n",
              "      <td>108.650002</td>\n",
              "      <td>105.410004</td>\n",
              "      <td>108.290001</td>\n",
              "      <td>106.250000</td>\n",
              "      <td>64285500.0</td>\n",
              "      <td>98.289474</td>\n",
              "    </tr>\n",
              "    <tr>\n",
              "      <th>2015-01-06</th>\n",
              "      <td>107.430000</td>\n",
              "      <td>104.629997</td>\n",
              "      <td>106.540001</td>\n",
              "      <td>106.260002</td>\n",
              "      <td>65797100.0</td>\n",
              "      <td>98.298729</td>\n",
              "    </tr>\n",
              "    <tr>\n",
              "      <th>2015-01-07</th>\n",
              "      <td>108.199997</td>\n",
              "      <td>106.699997</td>\n",
              "      <td>107.199997</td>\n",
              "      <td>107.750000</td>\n",
              "      <td>40105900.0</td>\n",
              "      <td>99.677094</td>\n",
              "    </tr>\n",
              "    <tr>\n",
              "      <th>2015-01-08</th>\n",
              "      <td>112.150002</td>\n",
              "      <td>108.699997</td>\n",
              "      <td>109.230003</td>\n",
              "      <td>111.889999</td>\n",
              "      <td>59364500.0</td>\n",
              "      <td>103.506897</td>\n",
              "    </tr>\n",
              "  </tbody>\n",
              "</table>\n",
              "</div>"
            ],
            "text/plain": [
              "                  High         Low  ...      Volume   Adj Close\n",
              "Date                                ...                        \n",
              "2015-01-02  111.440002  107.349998  ...  53204600.0  101.138702\n",
              "2015-01-05  108.650002  105.410004  ...  64285500.0   98.289474\n",
              "2015-01-06  107.430000  104.629997  ...  65797100.0   98.298729\n",
              "2015-01-07  108.199997  106.699997  ...  40105900.0   99.677094\n",
              "2015-01-08  112.150002  108.699997  ...  59364500.0  103.506897\n",
              "\n",
              "[5 rows x 6 columns]"
            ]
          },
          "metadata": {
            "tags": []
          },
          "execution_count": 6
        }
      ]
    },
    {
      "cell_type": "code",
      "metadata": {
        "id": "IvnAEXErU1-b",
        "colab_type": "code",
        "outputId": "d8e0b1b2-5f78-497b-930b-3bb287d8f31f",
        "colab": {
          "base_uri": "https://localhost:8080/",
          "height": 292
        }
      },
      "source": [
        "from pmdarima import auto_arima\n",
        "df_arima = apple_training_complete['Open'].copy()\n",
        "\n",
        "modela = auto_arima(df_arima, trace=True, error_action='ignore', suppress_warnings=True, disp=0)\n",
        "modela.fit(df_arima)\n",
        "\n",
        "domani = modela.predict(n_periods=days)"
      ],
      "execution_count": 0,
      "outputs": [
        {
          "output_type": "stream",
          "text": [
            "/usr/local/lib/python3.6/dist-packages/sklearn/externals/six.py:31: DeprecationWarning: The module is deprecated in version 0.21 and will be removed in version 0.23 since we've dropped support for Python 2.7. Please rely on the official version of six (https://pypi.org/project/six/).\n",
            "  \"(https://pypi.org/project/six/).\", DeprecationWarning)\n",
            "/usr/local/lib/python3.6/dist-packages/sklearn/externals/joblib/__init__.py:15: DeprecationWarning: sklearn.externals.joblib is deprecated in 0.21 and will be removed in 0.23. Please import this functionality directly from joblib, which can be installed with: pip install joblib. If this warning is raised when loading pickled models, you may need to re-serialize those models with scikit-learn 0.21+.\n",
            "  warnings.warn(msg, category=DeprecationWarning)\n"
          ],
          "name": "stderr"
        },
        {
          "output_type": "stream",
          "text": [
            "Fit ARIMA: order=(2, 1, 2) seasonal_order=(0, 0, 0, 1); AIC=5134.569, BIC=5164.663, Fit time=1.674 seconds\n",
            "Fit ARIMA: order=(0, 1, 0) seasonal_order=(0, 0, 0, 1); AIC=5151.661, BIC=5161.693, Fit time=0.046 seconds\n",
            "Fit ARIMA: order=(1, 1, 0) seasonal_order=(0, 0, 0, 1); AIC=5144.507, BIC=5159.554, Fit time=0.119 seconds\n",
            "Fit ARIMA: order=(0, 1, 1) seasonal_order=(0, 0, 0, 1); AIC=5145.030, BIC=5160.078, Fit time=0.159 seconds\n",
            "Fit ARIMA: order=(1, 1, 2) seasonal_order=(0, 0, 0, 1); AIC=5147.637, BIC=5172.715, Fit time=0.908 seconds\n",
            "Fit ARIMA: order=(3, 1, 2) seasonal_order=(0, 0, 0, 1); AIC=nan, BIC=nan, Fit time=nan seconds\n",
            "Fit ARIMA: order=(2, 1, 1) seasonal_order=(0, 0, 0, 1); AIC=5147.726, BIC=5172.804, Fit time=0.578 seconds\n",
            "Fit ARIMA: order=(2, 1, 3) seasonal_order=(0, 0, 0, 1); AIC=5139.887, BIC=5174.997, Fit time=2.092 seconds\n",
            "Fit ARIMA: order=(1, 1, 1) seasonal_order=(0, 0, 0, 1); AIC=5145.951, BIC=5166.014, Fit time=0.351 seconds\n",
            "Fit ARIMA: order=(3, 1, 3) seasonal_order=(0, 0, 0, 1); AIC=5141.716, BIC=5181.841, Fit time=2.816 seconds\n",
            "Total fit time: 8.754 seconds\n"
          ],
          "name": "stdout"
        }
      ]
    },
    {
      "cell_type": "code",
      "metadata": {
        "id": "L3rhTIgMVyLq",
        "colab_type": "code",
        "outputId": "c07d7940-a00e-47f7-da0a-8176a5f34268",
        "colab": {
          "base_uri": "https://localhost:8080/",
          "height": 190
        }
      },
      "source": [
        "apple_train = apple_training_complete['Open'].copy()\n",
        "  \n",
        "features_set = []  \n",
        "labels = []  \n",
        "for i in range(63, (apple_train.shape[0])):  \n",
        "    features_set.append(apple_train[i-63:i])\n",
        "    labels.append(apple_train[i])\n",
        "    \n",
        "features_set, labels = np.array(features_set), np.array(labels)  \n",
        "\n",
        "features_set = np.reshape(features_set, (features_set.shape[0], features_set.shape[1], 1))  \n",
        "\n",
        "model = Sequential()  \n",
        "model.add(LSTM(units=50, return_sequences=True, activation='relu', input_shape=(features_set.shape[1], 1)))  \n",
        "model.add(Dropout(0.2))  \n",
        "model.add(LSTM(units=50, return_sequences=False, activation='relu'))  \n",
        "model.add(Dropout(0.2))\n",
        "  \n",
        "#model.add(LSTM(units=50, return_sequences=True))  \n",
        "#model.add(Dropout(0.2))\n",
        "\n",
        "#model.add(LSTM(units=50))  \n",
        "#model.add(Dropout(0.2))  \n",
        "model.add(Dense(units = 1, activation='linear'))  \n",
        "model.compile(optimizer = 'rmsprop', loss = 'mean_squared_error')  \n",
        "model.fit(features_set, labels, epochs = 100, batch_size = 32, verbose=0)  \n",
        "\n",
        "for k in range(0,days+1,1):\n",
        "  \n",
        "  test_inputs = apple_train.iloc[-63:].values  \n",
        "  \n",
        "  test_inputs = test_inputs.reshape(-1,1)\n",
        "  \n",
        "  test_features = []  \n",
        "\n",
        "  for i in range(63, 64):  \n",
        "    \n",
        "    test_features.append(test_inputs[i-63:i])\n",
        "  \n",
        "  test_features = np.array(test_features)  \n",
        "  \n",
        "  test_features = np.reshape(test_features, (test_features.shape[0], test_features.shape[1], 1))  \n",
        "  \n",
        "  predictions = model.predict(test_features)  \n",
        "  \n",
        "  apple_train.append(pd.Series([predictions]))\n",
        "  \n",
        "tomorrow = apple_train.iloc[-days:]"
      ],
      "execution_count": 0,
      "outputs": [
        {
          "output_type": "stream",
          "text": [
            "WARNING:tensorflow:From /usr/local/lib/python3.6/dist-packages/tensorflow/python/framework/op_def_library.py:263: colocate_with (from tensorflow.python.framework.ops) is deprecated and will be removed in a future version.\n",
            "Instructions for updating:\n",
            "Colocations handled automatically by placer.\n",
            "WARNING:tensorflow:From /usr/local/lib/python3.6/dist-packages/keras/backend/tensorflow_backend.py:3445: calling dropout (from tensorflow.python.ops.nn_ops) with keep_prob is deprecated and will be removed in a future version.\n",
            "Instructions for updating:\n",
            "Please use `rate` instead of `keep_prob`. Rate should be set to `rate = 1 - keep_prob`.\n",
            "WARNING:tensorflow:From /usr/local/lib/python3.6/dist-packages/tensorflow/python/ops/math_ops.py:3066: to_int32 (from tensorflow.python.ops.math_ops) is deprecated and will be removed in a future version.\n",
            "Instructions for updating:\n",
            "Use tf.cast instead.\n"
          ],
          "name": "stdout"
        }
      ]
    },
    {
      "cell_type": "code",
      "metadata": {
        "id": "mjsXmYcVW2W2",
        "colab_type": "code",
        "outputId": "9c1e09eb-79b7-4367-dc3b-a59f481751f9",
        "colab": {
          "base_uri": "https://localhost:8080/",
          "height": 298
        }
      },
      "source": [
        "plt.clf() \n",
        "plt.title('PREDICTION') \n",
        "plt.plot(domani, color = 'red',label='ARIMA') \n",
        "plt.plot(tomorrow.values, color = 'blue',label='LSTM') \n",
        "#plt.plot(apple_testing['Open'].values, color = 'green',label='TRUE') \n",
        "plt.ylabel('MAPE') \n",
        "plt.legend() \n",
        "display(plt.show()) "
      ],
      "execution_count": 0,
      "outputs": [
        {
          "output_type": "display_data",
          "data": {
            "image/png": "[encoded data removed]",
            "text/plain": [
              "<Figure size 432x288 with 1 Axes>"
            ]
          },
          "metadata": {
            "tags": []
          }
        },
        {
          "output_type": "display_data",
          "data": {
            "text/plain": [
              "None"
            ]
          },
          "metadata": {
            "tags": []
          }
        }
      ]
    },
    {
      "cell_type": "code",
      "metadata": {
        "id": "y8_zF0vfl9FP",
        "colab_type": "code",
        "outputId": "e971b07f-4f70-4115-a42f-4a9baa846843",
        "colab": {
          "base_uri": "https://localhost:8080/",
          "height": 34
        }
      },
      "source": [
        "domani, tomorrow.values #, apple_testing['Open'].values"
      ],
      "execution_count": 0,
      "outputs": [
        {
          "output_type": "execute_result",
          "data": {
            "text/plain": [
              "(array([187.17101421]), array([186.50999451]))"
            ]
          },
          "metadata": {
            "tags": []
          },
          "execution_count": 10
        }
      ]
    }
  ]
}